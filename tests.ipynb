{
 "cells": [
  {
   "cell_type": "code",
   "execution_count": 1,
   "metadata": {},
   "outputs": [],
   "source": [
    "import asyncio\n",
    "import json\n",
    "import os\n",
    "from binance.client import Client\n",
    "from binance.helpers import round_step_size\n",
    "import math\n",
    "\n"
   ]
  },
  {
   "cell_type": "code",
   "execution_count": 2,
   "metadata": {},
   "outputs": [
    {
     "name": "stdout",
     "output_type": "stream",
     "text": [
      "GE3CjXBhmO73oZM4kQzNZDuOxhoSNkwM1Ipw7g0lsgL52MBiwuCIShlHkaGrBndu\n"
     ]
    }
   ],
   "source": [
    "# Binance\n",
    "api_key_test = os.environ.get('binance_api_test')\n",
    "api_secret_test = os.environ.get('binance_secret_test')\n",
    "print(api_secret_test)"
   ]
  },
  {
   "cell_type": "code",
   "execution_count": 4,
   "metadata": {},
   "outputs": [],
   "source": [
    "c = Client(api_key_test, api_secret_test, testnet=True)"
   ]
  },
  {
   "cell_type": "code",
   "execution_count": 16,
   "metadata": {},
   "outputs": [
    {
     "data": {
      "text/plain": [
       "{'symbol': 'BTCUSDT',\n",
       " 'orderId': 9847279,\n",
       " 'orderListId': -1,\n",
       " 'clientOrderId': 'Khw6gP8YjIHE2zAAQhrWD7',\n",
       " 'transactTime': 1666619911161,\n",
       " 'price': '0.00000000',\n",
       " 'origQty': '0.01000000',\n",
       " 'executedQty': '0.01000000',\n",
       " 'cummulativeQuoteQty': '193.48050000',\n",
       " 'status': 'FILLED',\n",
       " 'timeInForce': 'GTC',\n",
       " 'type': 'MARKET',\n",
       " 'side': 'SELL',\n",
       " 'fills': [{'price': '19348.05000000',\n",
       "   'qty': '0.01000000',\n",
       "   'commission': '0.00000000',\n",
       "   'commissionAsset': 'USDT',\n",
       "   'tradeId': 3405908}]}"
      ]
     },
     "execution_count": 16,
     "metadata": {},
     "output_type": "execute_result"
    }
   ],
   "source": [
    "from binance.enums import *\n",
    "order = c.create_order(\n",
    "    symbol='BTCUSDT',\n",
    "    side=SIDE_SELL,\n",
    "    type=ORDER_TYPE_MARKET,\n",
    "    quantity=0.01,\n",
    "    newOrderRespType = 'FULL')\n",
    "order"
   ]
  },
  {
   "cell_type": "code",
   "execution_count": 17,
   "metadata": {},
   "outputs": [
    {
     "name": "stdout",
     "output_type": "stream",
     "text": [
      "avg_price= 19348.05\n"
     ]
    }
   ],
   "source": [
    "fills = order['fills']\n",
    "avg_price = sum([float(f['price']) * (float(f['qty']) / float(order['executedQty'])) for f in fills])\n",
    "print('avg_price=',avg_price)"
   ]
  },
  {
   "cell_type": "code",
   "execution_count": 14,
   "metadata": {},
   "outputs": [
    {
     "name": "stdout",
     "output_type": "stream",
     "text": [
      "avg_price= 19369.5\n"
     ]
    }
   ],
   "source": [
    "avg_price = sum([float(f['price']) * (float(f['qty']) / float(order['executedQty'])) for f in fills])\n",
    "print('avg_price=',avg_price)"
   ]
  },
  {
   "cell_type": "code",
   "execution_count": 11,
   "metadata": {},
   "outputs": [
    {
     "data": {
      "text/plain": [
       "{'symbol': 'CHZBUSD',\n",
       " 'orderId': 267070749,\n",
       " 'orderListId': -1,\n",
       " 'clientOrderId': 'ttQgFih6c2BViZVrfKG27n',\n",
       " 'price': '41.60154000',\n",
       " 'origQty': '225.00000000',\n",
       " 'executedQty': '225.00000000',\n",
       " 'cummulativeQuoteQty': '41.46750000',\n",
       " 'status': 'FILLED',\n",
       " 'timeInForce': 'GTC',\n",
       " 'type': 'MARKET',\n",
       " 'side': 'BUY',\n",
       " 'stopPrice': '0.00000000',\n",
       " 'icebergQty': '0.00000000',\n",
       " 'time': 1666612878191,\n",
       " 'updateTime': 1666612878191,\n",
       " 'isWorking': True,\n",
       " 'origQuoteOrderQty': '41.60154000'}"
      ]
     },
     "execution_count": 11,
     "metadata": {},
     "output_type": "execute_result"
    }
   ],
   "source": [
    "filledorder = c.get_order(symbol = 'CHZBUSD', orderId='267070749', ) # orderid=267070749\n",
    "filledorder\n",
    "# fill\n",
    "\n",
    "# avg_price = sum([float(f['price']) * (float(f['qty']) / quantity) for f in fill"
   ]
  },
  {
   "cell_type": "code",
   "execution_count": 6,
   "metadata": {},
   "outputs": [
    {
     "name": "stdout",
     "output_type": "stream",
     "text": [
      "{\n",
      "  \"symbol\": \"QNTBUSD\",\n",
      "  \"status\": \"TRADING\",\n",
      "  \"baseAsset\": \"QNT\",\n",
      "  \"baseAssetPrecision\": 8,\n",
      "  \"quoteAsset\": \"BUSD\",\n",
      "  \"quotePrecision\": 8,\n",
      "  \"quoteAssetPrecision\": 8,\n",
      "  \"baseCommissionPrecision\": 8,\n",
      "  \"quoteCommissionPrecision\": 8,\n",
      "  \"orderTypes\": [\n",
      "    \"LIMIT\",\n",
      "    \"LIMIT_MAKER\",\n",
      "    \"MARKET\",\n",
      "    \"STOP_LOSS_LIMIT\",\n",
      "    \"TAKE_PROFIT_LIMIT\"\n",
      "  ],\n",
      "  \"icebergAllowed\": true,\n",
      "  \"ocoAllowed\": true,\n",
      "  \"quoteOrderQtyMarketAllowed\": true,\n",
      "  \"allowTrailingStop\": true,\n",
      "  \"cancelReplaceAllowed\": true,\n",
      "  \"isSpotTradingAllowed\": true,\n",
      "  \"isMarginTradingAllowed\": true,\n",
      "  \"filters\": [\n",
      "    {\n",
      "      \"filterType\": \"PRICE_FILTER\",\n",
      "      \"minPrice\": \"0.10000000\",\n",
      "      \"maxPrice\": \"100000.00000000\",\n",
      "      \"tickSize\": \"0.10000000\"\n",
      "    },\n",
      "    {\n",
      "      \"filterType\": \"PERCENT_PRICE\",\n",
      "      \"multiplierUp\": \"5\",\n",
      "      \"multiplierDown\": \"0.2\",\n",
      "      \"avgPriceMins\": 5\n",
      "    },\n",
      "    {\n",
      "      \"filterType\": \"LOT_SIZE\",\n",
      "      \"minQty\": \"0.00100000\",\n",
      "      \"maxQty\": \"922327.00000000\",\n",
      "      \"stepSize\": \"0.00100000\"\n",
      "    },\n",
      "    {\n",
      "      \"filterType\": \"MIN_NOTIONAL\",\n",
      "      \"minNotional\": \"10.00000000\",\n",
      "      \"applyToMarket\": true,\n",
      "      \"avgPriceMins\": 5\n",
      "    },\n",
      "    {\n",
      "      \"filterType\": \"ICEBERG_PARTS\",\n",
      "      \"limit\": 10\n",
      "    },\n",
      "    {\n",
      "      \"filterType\": \"MARKET_LOT_SIZE\",\n",
      "      \"minQty\": \"0.00000000\",\n",
      "      \"maxQty\": \"2879.08727484\",\n",
      "      \"stepSize\": \"0.00000000\"\n",
      "    },\n",
      "    {\n",
      "      \"filterType\": \"TRAILING_DELTA\",\n",
      "      \"minTrailingAboveDelta\": 10,\n",
      "      \"maxTrailingAboveDelta\": 2000,\n",
      "      \"minTrailingBelowDelta\": 10,\n",
      "      \"maxTrailingBelowDelta\": 2000\n",
      "    },\n",
      "    {\n",
      "      \"filterType\": \"MAX_NUM_ORDERS\",\n",
      "      \"maxNumOrders\": 200\n",
      "    },\n",
      "    {\n",
      "      \"filterType\": \"MAX_NUM_ALGO_ORDERS\",\n",
      "      \"maxNumAlgoOrders\": 5\n",
      "    }\n",
      "  ],\n",
      "  \"permissions\": [\n",
      "    \"SPOT\",\n",
      "    \"MARGIN\",\n",
      "    \"TRD_GRP_004\",\n",
      "    \"TRD_GRP_005\"\n",
      "  ]\n",
      "}\n"
     ]
    }
   ],
   "source": [
    "# Binance Client\n",
    "\n",
    "symbol_info = c.get_symbol_info('QNTBUSD')\n",
    "\n",
    "\n",
    "\n",
    "print(json.dumps(symbol_info, indent=2))\n"
   ]
  },
  {
   "cell_type": "code",
   "execution_count": 21,
   "metadata": {},
   "outputs": [
    {
     "name": "stdout",
     "output_type": "stream",
     "text": [
      "coinOnly= BTC\n",
      "coinStable= BUSD\n"
     ]
    }
   ],
   "source": [
    "coinPair = \"BTCBUSD\"\n",
    "coinOnly = coinPair[:-4]\n",
    "print('coinOnly=',coinOnly)\n",
    "coinStable = coinPair[-4:]\n",
    "print('coinStable=',coinStable)"
   ]
  },
  {
   "cell_type": "code",
   "execution_count": 25,
   "metadata": {},
   "outputs": [],
   "source": [
    "import requests\n",
    "\n",
    "# Telegram\n",
    "telegramToken = os.environ.get('telegramToken') \n",
    "telegram_chat_id = os.environ.get('telegram_chat_id')"
   ]
  },
  {
   "cell_type": "code",
   "execution_count": 26,
   "metadata": {},
   "outputs": [],
   "source": [
    "# %%\n",
    "def sendTelegramMessage(emoji, msg):\n",
    "    if not emoji:\n",
    "        lmsg = msg\n",
    "    else:\n",
    "        lmsg = emoji+\" \"+msg\n",
    "    url = f\"https://api.telegram.org/bot{telegramToken}/sendMessage?chat_id={telegram_chat_id}&text={lmsg}\"\n",
    "    requests.get(url).json() # this sends the message"
   ]
  },
  {
   "cell_type": "code",
   "execution_count": 27,
   "metadata": {},
   "outputs": [],
   "source": [
    "msg = \"QNT\\nPrice=2\\nQty=12\\n\"\n",
    "sendTelegramMessage(\"\", msg)"
   ]
  }
 ],
 "metadata": {
  "kernelspec": {
   "display_name": "Python 3.10.6 64-bit",
   "language": "python",
   "name": "python3"
  },
  "language_info": {
   "codemirror_mode": {
    "name": "ipython",
    "version": 3
   },
   "file_extension": ".py",
   "mimetype": "text/x-python",
   "name": "python",
   "nbconvert_exporter": "python",
   "pygments_lexer": "ipython3",
   "version": "3.10.6"
  },
  "orig_nbformat": 4,
  "vscode": {
   "interpreter": {
    "hash": "916dbcbb3f70747c44a77c7bcd40155683ae19c65e1c03b4aa3499c5328201f1"
   }
  }
 },
 "nbformat": 4,
 "nbformat_minor": 2
}
